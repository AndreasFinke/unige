{
 "cells": [
  {
   "cell_type": "code",
   "execution_count": 2,
   "metadata": {},
   "outputs": [
    {
     "data": {
      "application/javascript": [
       "IPython.OutputArea.prototype._should_scroll = function(lines) {\n",
       "    return false;\n",
       "}\n"
      ],
      "text/plain": [
       "<IPython.core.display.Javascript object>"
      ]
     },
     "metadata": {},
     "output_type": "display_data"
    }
   ],
   "source": [
    "%%javascript\n",
    "IPython.OutputArea.prototype._should_scroll = function(lines) {\n",
    "    return false;\n",
    "}"
   ]
  },
  {
   "cell_type": "code",
   "execution_count": 1,
   "metadata": {},
   "outputs": [],
   "source": [
    "import numpy as np\n",
    "import matplotlib.pyplot as plt\n",
    "#from scipy.stats import norm\n",
    "#import statsmodels.api as sm\n",
    "from scipy.integrate import quad\n",
    "import warnings\n",
    "warnings.filterwarnings('ignore')\n",
    "\n",
    "np.random.seed(1610)"
   ]
  },
  {
   "cell_type": "markdown",
   "metadata": {},
   "source": [
    "## Test distributions"
   ]
  },
  {
   "cell_type": "code",
   "execution_count": 16,
   "metadata": {},
   "outputs": [],
   "source": [
    "def gauss_dist(x, mu=0, sigma=1):    \n",
    "    sigma = np.array(sigma)\n",
    "    mu = np.array(mu)\n",
    "    return 1/(np.multiply(sigma,np.sqrt(2*np.pi))) * np.exp(-(x-mu)**2/(2*sigma**2))\n",
    "\n",
    "\n",
    "def dg(x, alpha=0.5, mu_1=-3, sigma_1=1, mu_2=3, sigma_2=1):\n",
    "    return alpha*gauss_dist(x, mu_1,sigma_1 )+(1-alpha)*gauss_dist(x, mu_2,sigma_2 )\n",
    "\n",
    "\n",
    "def dist_andreas(x, alpha=5):\n",
    "    return np.exp(-(np.cos(-(x-alpha)+(-x+alpha)**2)-1)-0.1*(-x+alpha)**4)/6.90815481092748\n",
    "\n",
    "\n",
    "def my_sampling(nTrials, xmin, xmax, dist_true, **params):\n",
    "    \n",
    "    x = np.linspace(xmin, xmax, 3000)\n",
    "    max_dist = np.max(dist_true(x, **params))\n",
    "    \n",
    "    samplesTrial = xmin+(np.random.rand(nTrials)*(xmax-xmin))\n",
    "    #only accecpt samples with a random y-coord from [0..something larger than maximum of curve] under the curve\n",
    "    samples = samplesTrial[ 1.1*max_dist*np.random.rand(nTrials) < dist_true(samplesTrial, **params)]\n",
    "    \n",
    "    return samples, samplesTrial\n",
    "\n",
    "\n",
    "def true_dist(case=0):\n",
    "    if case==0:# Gaussian w. zero mean and 1 variance\n",
    "        dist = lambda x: gauss_dist(x, mu=0, sigma=1)\n",
    "        xmin = -5\n",
    "        xmax=5\n",
    "    if case==1: # Double Gaussian \n",
    "        dist = lambda x: dg(x, alpha=0.5, mu_1=-3, sigma_1=1, mu_2=3, sigma_2=1)\n",
    "        xmin = -8\n",
    "        xmax = 8\n",
    "    if case==2: # Andreas' dist\n",
    "        dist = lambda x: dist_andreas(x, alpha=5)\n",
    "        xmin=1\n",
    "        xmax=9\n",
    "    \n",
    "    return dist, xmin, xmax\n",
    "\n",
    "\n",
    "def generate_noisy_sample(N=1000, case_dist=0, case_err=0, seed=1234):\n",
    "    \n",
    "    \"\"\"\n",
    "    N : number of points\n",
    "    case_dist :  case for distribution of mass (x)\n",
    "                0 :: gaussian mu=0, sigma=1\n",
    "                1 :: double gaussian\n",
    "                2 :: Andreas' dist.\n",
    "\n",
    "    \"\"\"\n",
    "    np.random.seed(seed)   \n",
    "    \n",
    "    # Masses\n",
    "    f, xmin, xmax = true_dist(case_dist)\n",
    "    x, _ = my_sampling(5*N, xmin, xmax, f)\n",
    "    Nsamples = x.size\n",
    "    print('Got %s samples' %Nsamples)\n",
    "    \n",
    "    # Redshifts\n",
    "    z_min=1e-3\n",
    "    z_max=3\n",
    "    z = np.linspace(z_min, z_max, Nsamples)\n",
    "    \n",
    "    # Errors\n",
    "    if case_err==0: # quadratic\n",
    "        sigma = (z/z_max)**2\n",
    "    if case_err==1: # sqrt\n",
    "        sigma = (z/z_max)**(1/2)\n",
    "    \n",
    "    error = sigma*np.random.normal(size=Nsamples, loc=0, scale=1)\n",
    "    y = x + error\n",
    "    \n",
    "    return y, x, z, sigma, error"
   ]
  },
  {
   "cell_type": "code",
   "execution_count": null,
   "metadata": {},
   "outputs": [],
   "source": [
    "def IMSE(estimator, N_loops = 10, N=1000, case_dist=0, case_err=0):\n",
    "    \n",
    "    f, xmin, xmax = true_dist(case_dist)\n",
    "    ISEs, ISE_ISEs=[], []\n",
    "    for i in range(N_loops):\n",
    "        y, x, z, sigma, error = generate_noisy_sample(N=N, case_dist=case_dist, case_err=case_err, seed=i)\n",
    "        f_hat, errorband = estimator(y)\n",
    "        \n",
    "        ISE = quad(lambda x: (f_hat(x)-f(x))**2, xmin, xmax)[0]\n",
    "        ISEs.append(ISE)\n",
    "        \n",
    "        ISE_ISE = quad(lambda x: ((f_hat(x)-f(x))**2-errorband**2)**2, xmin, xmax)[0]\n",
    "        ISEs.append(ISE)\n",
    "        ISE_ISEs.append(ISE_ISE)\n",
    "        \n",
    "    ISEs, ISE_ISEs = np.array(ISEs), np.array(ISE_ISEs)\n",
    "    IMSE, IMSE_IMSE = ISEs.mean(), ISE_ISEs.mean()\n",
    "    return IMSE, ISEs, IMSE_IMSE, IMSE_IMSEs"
   ]
  },
  {
   "cell_type": "markdown",
   "metadata": {},
   "source": [
    "### Gaussian"
   ]
  },
  {
   "cell_type": "code",
   "execution_count": 17,
   "metadata": {},
   "outputs": [
    {
     "name": "stdout",
     "output_type": "stream",
     "text": [
      "Got 538 samples\n"
     ]
    }
   ],
   "source": [
    "y, x, z, sigma, error = generate_noisy_sample(N=500, case_dist=0, case_err=0)"
   ]
  },
  {
   "cell_type": "code",
   "execution_count": 18,
   "metadata": {},
   "outputs": [
    {
     "data": {
      "image/png": "[encoded data removed]",
      "text/plain": [
       "<Figure size 432x288 with 1 Axes>"
      ]
     },
     "metadata": {
      "needs_background": "light"
     },
     "output_type": "display_data"
    }
   ],
   "source": [
    "x_1 = np.linspace(-5, 5, 500)\n",
    "plt.hist(x, 20, density=True, fill=False, edgecolor='red');\n",
    "plt.plot(x_1, true_dist(case=0)[0](x_1));\n",
    "\n"
   ]
  },
  {
   "cell_type": "markdown",
   "metadata": {},
   "source": [
    "### Double gaussian"
   ]
  },
  {
   "cell_type": "code",
   "execution_count": 19,
   "metadata": {},
   "outputs": [
    {
     "name": "stdout",
     "output_type": "stream",
     "text": [
      "Got 665 samples\n"
     ]
    }
   ],
   "source": [
    "y, x, z, sigma, error = generate_noisy_sample(N=500, case_dist=1, case_err=1)"
   ]
  },
  {
   "cell_type": "code",
   "execution_count": 20,
   "metadata": {},
   "outputs": [
    {
     "data": {
      "image/png": "[encoded data removed]",
      "text/plain": [
       "<Figure size 432x288 with 1 Axes>"
      ]
     },
     "metadata": {
      "needs_background": "light"
     },
     "output_type": "display_data"
    }
   ],
   "source": [
    "plt.hist(x, 20, density=True, fill=False, edgecolor='red');\n",
    "plt.plot(x_1, true_dist(case=1)[0](x_1));\n",
    "\n"
   ]
  },
  {
   "cell_type": "markdown",
   "metadata": {},
   "source": [
    "### Asymmetric dist."
   ]
  },
  {
   "cell_type": "code",
   "execution_count": 21,
   "metadata": {},
   "outputs": [
    {
     "name": "stdout",
     "output_type": "stream",
     "text": [
      "Got 341 samples\n"
     ]
    }
   ],
   "source": [
    "y, x, z, sigma, error = generate_noisy_sample(N=500, case_dist=2, case_err=1)"
   ]
  },
  {
   "cell_type": "code",
   "execution_count": 22,
   "metadata": {},
   "outputs": [
    {
     "data": {
      "image/png": "[encoded data removed]",
      "text/plain": [
       "<Figure size 432x288 with 1 Axes>"
      ]
     },
     "metadata": {
      "needs_background": "light"
     },
     "output_type": "display_data"
    }
   ],
   "source": [
    "x_2 = np.linspace(1, 10, 500)\n",
    "plt.hist(x, 20, density=True, fill=False, edgecolor='red');\n",
    "plt.plot(x_2, true_dist(case=2)[0](x_2));\n",
    "\n"
   ]
  },
  {
   "cell_type": "code",
   "execution_count": null,
   "metadata": {},
   "outputs": [],
   "source": []
  }
 ],
 "metadata": {
  "kernelspec": {
   "display_name": "Python 3",
   "language": "python",
   "name": "python3"
  },
  "language_info": {
   "codemirror_mode": {
    "name": "ipython",
    "version": 3
   },
   "file_extension": ".py",
   "mimetype": "text/x-python",
   "name": "python",
   "nbconvert_exporter": "python",
   "pygments_lexer": "ipython3",
   "version": "3.7.3"
  }
 },
 "nbformat": 4,
 "nbformat_minor": 2
}
